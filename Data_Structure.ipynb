{
  "nbformat": 4,
  "nbformat_minor": 0,
  "metadata": {
    "colab": {
      "name": "Data Structure.ipynb",
      "provenance": [],
      "authorship_tag": "ABX9TyPj1C2SgWotblLG0XMVyuaF",
      "include_colab_link": true
    },
    "kernelspec": {
      "name": "python3",
      "display_name": "Python 3"
    },
    "language_info": {
      "name": "python"
    }
  },
  "cells": [
    {
      "cell_type": "markdown",
      "metadata": {
        "id": "view-in-github",
        "colab_type": "text"
      },
      "source": [
        "<a href=\"https://colab.research.google.com/github/Jiraporn-klobrat/data_viz_2022/blob/main/Data_Structure.ipynb\" target=\"_parent\"><img src=\"https://colab.research.google.com/assets/colab-badge.svg\" alt=\"Open In Colab\"/></a>"
      ]
    },
    {
      "cell_type": "markdown",
      "source": [
        "# Data Structure (โครงสร้างข้อมูล)\n",
        "\n",
        "การเก็บข้อมูลหลายๆตัวไว้ด้วยกันอย่างเป็นระเบียบ"
      ],
      "metadata": {
        "id": "at6wG-b-6UNY"
      }
    },
    {
      "cell_type": "markdown",
      "source": [
        "## `list()`\n",
        "- เก็บอะไรก็ได้\n",
        "- ลำดับในการเก็บมีความสำคัญ"
      ],
      "metadata": {
        "id": "eGUgOXn66oOB"
      }
    },
    {
      "cell_type": "code",
      "execution_count": 1,
      "metadata": {
        "id": "dwvGOVdd4wGg"
      },
      "outputs": [],
      "source": [
        "list_a = [1,2,3,4,5,6]    #[ ] square brackets  #list คือโครงสร้างข้อมูลที่เก็บอะไรก็ได้"
      ]
    },
    {
      "cell_type": "code",
      "source": [
        "list_a"
      ],
      "metadata": {
        "colab": {
          "base_uri": "https://localhost:8080/"
        },
        "id": "Xeib1Pyk6-0q",
        "outputId": "a60eab2a-7306-416c-9149-91ba497dee97"
      },
      "execution_count": 2,
      "outputs": [
        {
          "output_type": "execute_result",
          "data": {
            "text/plain": [
              "[1, 2, 3, 4, 5, 6]"
            ]
          },
          "metadata": {},
          "execution_count": 2
        }
      ]
    },
    {
      "cell_type": "code",
      "source": [
        "list_b = ['ab',2,3.14,list_a]"
      ],
      "metadata": {
        "id": "pzjiATwh7Ajt"
      },
      "execution_count": 3,
      "outputs": []
    },
    {
      "cell_type": "code",
      "source": [
        "list_b"
      ],
      "metadata": {
        "colab": {
          "base_uri": "https://localhost:8080/"
        },
        "id": "fONHfB2_7GzJ",
        "outputId": "ada10f44-352c-40b6-dc7a-4f2f932ad322"
      },
      "execution_count": 4,
      "outputs": [
        {
          "output_type": "execute_result",
          "data": {
            "text/plain": [
              "['ab', 2, 3.14, [1, 2, 3, 4, 5, 6]]"
            ]
          },
          "metadata": {},
          "execution_count": 4
        }
      ]
    },
    {
      "cell_type": "markdown",
      "source": [
        "### indexing การชี้สมาชิกใน list ด้วย เลขลำดับของ list"
      ],
      "metadata": {
        "id": "gjv7MVrK8Y7e"
      }
    },
    {
      "cell_type": "code",
      "source": [
        "list_a[3]"
      ],
      "metadata": {
        "colab": {
          "base_uri": "https://localhost:8080/"
        },
        "id": "OW59r-RT7IHy",
        "outputId": "7f24084e-0872-4f38-ec92-2e5cb88721b5"
      },
      "execution_count": 5,
      "outputs": [
        {
          "output_type": "execute_result",
          "data": {
            "text/plain": [
              "4"
            ]
          },
          "metadata": {},
          "execution_count": 5
        }
      ]
    },
    {
      "cell_type": "code",
      "source": [
        "list_b[3]"
      ],
      "metadata": {
        "colab": {
          "base_uri": "https://localhost:8080/"
        },
        "id": "bPGvqs_g7vgx",
        "outputId": "9426bd10-b6a7-4d52-befa-b60a9500c4bb"
      },
      "execution_count": 6,
      "outputs": [
        {
          "output_type": "execute_result",
          "data": {
            "text/plain": [
              "[1, 2, 3, 4, 5, 6]"
            ]
          },
          "metadata": {},
          "execution_count": 6
        }
      ]
    },
    {
      "cell_type": "code",
      "source": [
        "list_b[3][4]"
      ],
      "metadata": {
        "colab": {
          "base_uri": "https://localhost:8080/"
        },
        "id": "oqjvW692768Y",
        "outputId": "bf3cdf80-4a5c-46a7-8020-8782d678da6c"
      },
      "execution_count": 7,
      "outputs": [
        {
          "output_type": "execute_result",
          "data": {
            "text/plain": [
              "5"
            ]
          },
          "metadata": {},
          "execution_count": 7
        }
      ]
    },
    {
      "cell_type": "code",
      "source": [
        "list_a[6]     #ถ้าเรียกสมาชิกที่ไม่มีใน list รันออกมาจะ error "
      ],
      "metadata": {
        "colab": {
          "base_uri": "https://localhost:8080/",
          "height": 167
        },
        "id": "Rr46RJ-Y8ozZ",
        "outputId": "57f9f43a-36e7-4997-aefa-0117909f09cd"
      },
      "execution_count": 8,
      "outputs": [
        {
          "output_type": "error",
          "ename": "IndexError",
          "evalue": "ignored",
          "traceback": [
            "\u001b[0;31m---------------------------------------------------------------------------\u001b[0m",
            "\u001b[0;31mIndexError\u001b[0m                                Traceback (most recent call last)",
            "\u001b[0;32m<ipython-input-8-5422006af7d5>\u001b[0m in \u001b[0;36m<module>\u001b[0;34m()\u001b[0m\n\u001b[0;32m----> 1\u001b[0;31m \u001b[0mlist_a\u001b[0m\u001b[0;34m[\u001b[0m\u001b[0;36m6\u001b[0m\u001b[0;34m]\u001b[0m     \u001b[0;31m#ถ้าเรียกสมาชิกที่ไม่มีใน list รันออกมาจะ error\u001b[0m\u001b[0;34m\u001b[0m\u001b[0;34m\u001b[0m\u001b[0m\n\u001b[0m",
            "\u001b[0;31mIndexError\u001b[0m: list index out of range"
          ]
        }
      ]
    },
    {
      "cell_type": "code",
      "source": [
        "list_a[-1]    #index -1 คือ ตัวสุดท้ายของ list "
      ],
      "metadata": {
        "colab": {
          "base_uri": "https://localhost:8080/"
        },
        "id": "iv6-g44s8rSl",
        "outputId": "a5aad94a-ae55-4c20-efdd-cce20b22fb79"
      },
      "execution_count": 9,
      "outputs": [
        {
          "output_type": "execute_result",
          "data": {
            "text/plain": [
              "6"
            ]
          },
          "metadata": {},
          "execution_count": 9
        }
      ]
    },
    {
      "cell_type": "code",
      "source": [
        "list_a[-4]    #นับจากท้ายมา เริ่มที่ -1, -2, -3, -4"
      ],
      "metadata": {
        "colab": {
          "base_uri": "https://localhost:8080/"
        },
        "id": "gDLJbD709B8h",
        "outputId": "b710f0dd-34e0-481f-cc4f-df85f6e5004a"
      },
      "execution_count": 10,
      "outputs": [
        {
          "output_type": "execute_result",
          "data": {
            "text/plain": [
              "3"
            ]
          },
          "metadata": {},
          "execution_count": 10
        }
      ]
    },
    {
      "cell_type": "markdown",
      "source": [
        "### การสร้าง `list()`"
      ],
      "metadata": {
        "id": "IkofzUus9dIJ"
      }
    },
    {
      "cell_type": "code",
      "source": [
        "list_x1 = []    # แบบที่ 1 คือ การสร้าง list ขึ้นมาเลย\n",
        "list_x2 = list()    #แบบที่ 2 คือ การสร้าง list ด้วยคำสั่งพิเศษ"
      ],
      "metadata": {
        "id": "hbwuLJw89LS2"
      },
      "execution_count": 11,
      "outputs": []
    },
    {
      "cell_type": "code",
      "source": [
        "list_x1\n",
        "list_x2"
      ],
      "metadata": {
        "colab": {
          "base_uri": "https://localhost:8080/"
        },
        "id": "nADcoSqU-A4_",
        "outputId": "e4c8e576-6cba-49ed-b467-1262a7197bfe"
      },
      "execution_count": 12,
      "outputs": [
        {
          "output_type": "execute_result",
          "data": {
            "text/plain": [
              "[]"
            ]
          },
          "metadata": {},
          "execution_count": 12
        }
      ]
    },
    {
      "cell_type": "code",
      "source": [
        "print(list_x1)\n",
        "print(list_x2)"
      ],
      "metadata": {
        "colab": {
          "base_uri": "https://localhost:8080/"
        },
        "id": "Eb6z5PQK-EXA",
        "outputId": "42e95929-9d1d-45c5-9d28-98774d678e5d"
      },
      "execution_count": 13,
      "outputs": [
        {
          "output_type": "stream",
          "name": "stdout",
          "text": [
            "[]\n",
            "[]\n"
          ]
        }
      ]
    },
    {
      "cell_type": "markdown",
      "source": [
        "### เพิ่มสมาชิกเข้าไปใน list ด้วย`append()`"
      ],
      "metadata": {
        "id": "OKA6Sxzj-QBi"
      }
    },
    {
      "cell_type": "code",
      "source": [
        "list_x1.append(2)"
      ],
      "metadata": {
        "id": "_gjIs16K-Oky"
      },
      "execution_count": 14,
      "outputs": []
    },
    {
      "cell_type": "code",
      "source": [
        "list_x1"
      ],
      "metadata": {
        "colab": {
          "base_uri": "https://localhost:8080/"
        },
        "id": "7R8gll92-rum",
        "outputId": "04850890-4e30-47e0-9b44-9f5399629d2d"
      },
      "execution_count": 15,
      "outputs": [
        {
          "output_type": "execute_result",
          "data": {
            "text/plain": [
              "[2]"
            ]
          },
          "metadata": {},
          "execution_count": 15
        }
      ]
    },
    {
      "cell_type": "code",
      "source": [
        "list_x1.append(4)\n",
        "print(list_x1)"
      ],
      "metadata": {
        "colab": {
          "base_uri": "https://localhost:8080/"
        },
        "id": "HIROBP0M-tha",
        "outputId": "b6303881-52f8-413d-b3a7-c52a42c14428"
      },
      "execution_count": 16,
      "outputs": [
        {
          "output_type": "stream",
          "name": "stdout",
          "text": [
            "[2, 4]\n"
          ]
        }
      ]
    },
    {
      "cell_type": "code",
      "source": [
        "list_x1[0]"
      ],
      "metadata": {
        "colab": {
          "base_uri": "https://localhost:8080/"
        },
        "id": "fx485OY1_EVl",
        "outputId": "375586f2-3a45-48c2-cfdd-77108e452a3e"
      },
      "execution_count": 17,
      "outputs": [
        {
          "output_type": "execute_result",
          "data": {
            "text/plain": [
              "2"
            ]
          },
          "metadata": {},
          "execution_count": 17
        }
      ]
    },
    {
      "cell_type": "code",
      "source": [
        "list_x1[-1]"
      ],
      "metadata": {
        "colab": {
          "base_uri": "https://localhost:8080/"
        },
        "id": "tdgyWzqg_HXl",
        "outputId": "af3b473b-c811-43da-f6ed-920eb53bb7ec"
      },
      "execution_count": 18,
      "outputs": [
        {
          "output_type": "execute_result",
          "data": {
            "text/plain": [
              "4"
            ]
          },
          "metadata": {},
          "execution_count": 18
        }
      ]
    },
    {
      "cell_type": "code",
      "source": [
        "list_x2"
      ],
      "metadata": {
        "colab": {
          "base_uri": "https://localhost:8080/"
        },
        "id": "XBzeuRPi_OWa",
        "outputId": "81e05bb8-2646-47b3-f2a2-ac95e306e02b"
      },
      "execution_count": 19,
      "outputs": [
        {
          "output_type": "execute_result",
          "data": {
            "text/plain": [
              "[]"
            ]
          },
          "metadata": {},
          "execution_count": 19
        }
      ]
    },
    {
      "cell_type": "code",
      "source": [
        "list_x2.append('ha')  #อย่ารันซ้ำ ถ้ารันซ้ำโปรแกรมจะแสดงผลซ้ำเท่าจำนวนที่เรารันซ้ำ"
      ],
      "metadata": {
        "id": "IVux4mMl_TnB"
      },
      "execution_count": 20,
      "outputs": []
    },
    {
      "cell_type": "code",
      "source": [
        "list_x2     #รัน ha ออกมาสองรอบ เพราะก่อนหน้ารันซ้ำไป 2 ครั้ง เลยออกมาเป็น ['ha', 'ha']"
      ],
      "metadata": {
        "colab": {
          "base_uri": "https://localhost:8080/"
        },
        "id": "7cWAKEDf_oRT",
        "outputId": "0a15a908-3ad4-4532-d7f7-64c98b717ec6"
      },
      "execution_count": 21,
      "outputs": [
        {
          "output_type": "execute_result",
          "data": {
            "text/plain": [
              "['ha']"
            ]
          },
          "metadata": {},
          "execution_count": 21
        }
      ]
    },
    {
      "cell_type": "markdown",
      "source": [
        "### ลบสมาชิกจาก list"
      ],
      "metadata": {
        "id": "Pmj6PwBGANNI"
      }
    },
    {
      "cell_type": "code",
      "source": [
        "list_x1.append('ha')"
      ],
      "metadata": {
        "id": "t1Su36ClAT1D"
      },
      "execution_count": 22,
      "outputs": []
    },
    {
      "cell_type": "code",
      "source": [
        "list_x1"
      ],
      "metadata": {
        "colab": {
          "base_uri": "https://localhost:8080/"
        },
        "id": "9y4AJIcKAh2N",
        "outputId": "d7e53777-6c63-45d9-f11a-09c42f170243"
      },
      "execution_count": 23,
      "outputs": [
        {
          "output_type": "execute_result",
          "data": {
            "text/plain": [
              "[2, 4, 'ha']"
            ]
          },
          "metadata": {},
          "execution_count": 23
        }
      ]
    },
    {
      "cell_type": "code",
      "source": [
        "list_x1.pop()"
      ],
      "metadata": {
        "colab": {
          "base_uri": "https://localhost:8080/",
          "height": 35
        },
        "id": "NwBX_pfLAjFo",
        "outputId": "782e14d3-11f3-4e51-d22d-c7f6993372ed"
      },
      "execution_count": 24,
      "outputs": [
        {
          "output_type": "execute_result",
          "data": {
            "application/vnd.google.colaboratory.intrinsic+json": {
              "type": "string"
            },
            "text/plain": [
              "'ha'"
            ]
          },
          "metadata": {},
          "execution_count": 24
        }
      ]
    },
    {
      "cell_type": "code",
      "source": [
        "list_x1"
      ],
      "metadata": {
        "colab": {
          "base_uri": "https://localhost:8080/"
        },
        "id": "5aam8uwpAq9Z",
        "outputId": "89b04883-c34d-4f90-c3ee-8f6d8b8500be"
      },
      "execution_count": 25,
      "outputs": [
        {
          "output_type": "execute_result",
          "data": {
            "text/plain": [
              "[2, 4]"
            ]
          },
          "metadata": {},
          "execution_count": 25
        }
      ]
    },
    {
      "cell_type": "code",
      "source": [
        "list_x1.pop()\n",
        "print(list_x1)"
      ],
      "metadata": {
        "colab": {
          "base_uri": "https://localhost:8080/"
        },
        "id": "0G1upHs0A0ES",
        "outputId": "7e628199-8ba7-44c5-b35f-4b00df1776ab"
      },
      "execution_count": 26,
      "outputs": [
        {
          "output_type": "stream",
          "name": "stdout",
          "text": [
            "[2]\n"
          ]
        }
      ]
    },
    {
      "cell_type": "code",
      "source": [
        "list_x2.append('ha')"
      ],
      "metadata": {
        "id": "4eIGuqebA6yD"
      },
      "execution_count": 27,
      "outputs": []
    },
    {
      "cell_type": "code",
      "source": [
        "list_x2"
      ],
      "metadata": {
        "colab": {
          "base_uri": "https://localhost:8080/"
        },
        "id": "bHpG_VKpBTfo",
        "outputId": "fb9568e1-f88a-45a7-951c-bb0ef7c28a3b"
      },
      "execution_count": 28,
      "outputs": [
        {
          "output_type": "execute_result",
          "data": {
            "text/plain": [
              "['ha', 'ha']"
            ]
          },
          "metadata": {},
          "execution_count": 28
        }
      ]
    },
    {
      "cell_type": "code",
      "source": [
        "list_x2.pop()"
      ],
      "metadata": {
        "colab": {
          "base_uri": "https://localhost:8080/",
          "height": 35
        },
        "id": "yrRmMmY2BWk1",
        "outputId": "1dc4f11b-0efc-4f8c-8c00-f70b5e04df6a"
      },
      "execution_count": 29,
      "outputs": [
        {
          "output_type": "execute_result",
          "data": {
            "application/vnd.google.colaboratory.intrinsic+json": {
              "type": "string"
            },
            "text/plain": [
              "'ha'"
            ]
          },
          "metadata": {},
          "execution_count": 29
        }
      ]
    },
    {
      "cell_type": "code",
      "source": [
        "list_x2.pop()\n",
        "print(list_x2)"
      ],
      "metadata": {
        "colab": {
          "base_uri": "https://localhost:8080/"
        },
        "id": "pg06FdCVBmGt",
        "outputId": "1ac9fd06-0506-4a48-8a77-546899467f25"
      },
      "execution_count": 30,
      "outputs": [
        {
          "output_type": "stream",
          "name": "stdout",
          "text": [
            "[]\n"
          ]
        }
      ]
    },
    {
      "cell_type": "markdown",
      "source": [
        "### `len()` ตรวจสอบจำนวนสมาชิกของ list"
      ],
      "metadata": {
        "id": "inxZ4qhNB9-5"
      }
    },
    {
      "cell_type": "code",
      "source": [
        "print(list_b)\n",
        "print(len(list_b))"
      ],
      "metadata": {
        "colab": {
          "base_uri": "https://localhost:8080/"
        },
        "id": "l8gHAhYnBrQF",
        "outputId": "2e90d754-4bc8-4e28-d640-1a851ac3c86d"
      },
      "execution_count": 31,
      "outputs": [
        {
          "output_type": "stream",
          "name": "stdout",
          "text": [
            "['ab', 2, 3.14, [1, 2, 3, 4, 5, 6]]\n",
            "4\n"
          ]
        }
      ]
    },
    {
      "cell_type": "code",
      "source": [
        "len(list_a)   #len นับจำนวนสมาชิก"
      ],
      "metadata": {
        "colab": {
          "base_uri": "https://localhost:8080/"
        },
        "id": "u4zJtPG_CROp",
        "outputId": "12016b84-4ff2-4276-b9ed-93c3b56f6b01"
      },
      "execution_count": 32,
      "outputs": [
        {
          "output_type": "execute_result",
          "data": {
            "text/plain": [
              "6"
            ]
          },
          "metadata": {},
          "execution_count": 32
        }
      ]
    },
    {
      "cell_type": "markdown",
      "source": [
        "### String is a list of characters"
      ],
      "metadata": {
        "id": "5g4639IoCeJ7"
      }
    },
    {
      "cell_type": "code",
      "source": [
        "st_stat = 'Department of Statistics, Faculty of Science'"
      ],
      "metadata": {
        "id": "e40Tg3PbCVaU"
      },
      "execution_count": 33,
      "outputs": []
    },
    {
      "cell_type": "code",
      "source": [
        "st_stat[10]"
      ],
      "metadata": {
        "colab": {
          "base_uri": "https://localhost:8080/",
          "height": 35
        },
        "id": "6PbxFUqhDDcs",
        "outputId": "dd23e445-d0f2-44f7-c941-7d466a47f61f"
      },
      "execution_count": 34,
      "outputs": [
        {
          "output_type": "execute_result",
          "data": {
            "application/vnd.google.colaboratory.intrinsic+json": {
              "type": "string"
            },
            "text/plain": [
              "' '"
            ]
          },
          "metadata": {},
          "execution_count": 34
        }
      ]
    },
    {
      "cell_type": "code",
      "source": [
        "len(st_stat)"
      ],
      "metadata": {
        "colab": {
          "base_uri": "https://localhost:8080/"
        },
        "id": "XSCrSVTDDRjI",
        "outputId": "0ba7655d-cc22-4d83-a271-14a20329635b"
      },
      "execution_count": 35,
      "outputs": [
        {
          "output_type": "execute_result",
          "data": {
            "text/plain": [
              "44"
            ]
          },
          "metadata": {},
          "execution_count": 35
        }
      ]
    },
    {
      "cell_type": "markdown",
      "source": [
        "### List Slicing `:`"
      ],
      "metadata": {
        "id": "QxyzZj4tDYJb"
      }
    },
    {
      "cell_type": "markdown",
      "source": [
        "`list[จุดเริ่มต้น (ทึบ):จุดสุดท้าย (โปร่ง]`\n",
        "\n",
        "`list[จุดเริ่มต้น (ทึบ):จุดสุดท้าย (โปร่ง):step]`"
      ],
      "metadata": {
        "id": "wh8Xc-BdEngt"
      }
    },
    {
      "cell_type": "markdown",
      "source": [
        "![image.png](data:image/png;base64,iVBORw0KGgoAAAANSUhEUgAAAlgAAAFACAIAAADvaZXgAAAaLklEQVR4nO3dYZKrKBSG4cPU3RGsCdYEa+KsifmhSatRg4mJRt6nuqbmJmmDCn6IaJtSigAA0Kr/ji4AAABHIggBAE0jCAEATSMIAQBNIwgBAE0jCAEATSMIAQBN+7fyXnJORL9WFAAAdmJ9zpUfXQtCEfWZ2+0BAD8mOVP/YYZGAQBNIwgBAE0jCAEATSMIAQBNIwgBAE0jCAEATSMIAQBNIwgBAE0jCAEATSMIAQBNIwgBAE0jCAEATSMIX5OcCXv/YY7kjDFm/+XiNcmZoO/s6E9UkvuSqSrAbgjCL9NgXJp/R8Xnkr2mIw9vxmx4ZDs+6exVBbgMgrBW3wk3xpil41MNa+1tcZP+vLWSnHFJrJ19/5NnGPijod/LL2zrnSpJ5+WqQj0Btln/e4ToaTDB5pLt7V8uiX9jYSaI2GjHr/tcxDnJXoNxGm/fhi/SYJzkUv52tFbv6F0ryX2RVBXg4752RpjEmP7n3Z7yDtytLHXd9hTSsLf/Xl/f+lxKmR7apO/IazDGSS75zUPow6J3vaJ06r3ZndK9tJPe2dG7VpLOl6rK/Ry4spJs3vvjHdSdzAJnUpZFu/buFrmI7f/XSxEpseJ3vIit+Nx29vb92VeWZUcxdt8X7WdWbu4rrYj4XPfh9SpRSvmNvdmFQ+1Kn9PXqkr2Ur93Nu/9mR2U/c/vHJzepvz6ShBGX/4qfS4iZbXV9T3cD7X+XIYN0EpZaZDR/jXXv363zyX7e/Fur9tba7c+z67DcGEPR7dBr39anr8vHvzG7IuLK7FhWz4Pwh/Zm8/jf1KyfhfcfmVmCw920mB1aipJebmelOqq8no92RKEG/f+4g76XM8IKKVszK+vDI36KINDiCxfz+gGlpzkUspeg4MaxuM9w+9XUSszI09zJetGc3zOPoW/gR0NLomNJXtNg+EeTdpP66sZA9JggtxzdTTVob8G1O1YCf07yc28uMRaEdX9hkV/Y2+q6t90k/lF9ftIum2Tkvpcok1JRSS5vtz3LTzcSSXK3IzOpUoiO9UTWa4qO9STOtV7f+Yjwx1kY/YaGCLFSeyVqNXy3HBK9WlDtuJF/K0v3P9zvuPfL3TprCAXkbI+PHPvnPed+2htjFZ8vnf2oxVrh2Uf9/SXzhxG3fxoZdrlH57X/P3S7VtnX1xdi9FHVrfhepV48Mbe3LIry+a9WTEe/HCO9vcFg9i2MXv52+23X/jb7M8rSXmjnpS6qvJWPdk0NDr6xQ2XFh6bGyeF+KTznREOaRLx08l0k+7zCptLLNlK0qTJGPUllhKnJ3Wjc5G5Mz4NYpyIiKu73m+97ybweUnq/WBwylu1M6c8Nj68tERVrfe3GQtB189jRER8nl2phcWHoOLjoCh127Bu4W/szepivLQ3fY72SUkm+8h6P36r/EVEtqrWyvr522IlkV3qiWyuKpvqyQtm9/7sB2ebm7VWqk+FgU/aLwjvM8MmP5PRj5Akx+nv3vqtPlXNXLPWiwYnufhpK+wOmsmXpYNmv4QopUh3AAqhYu0GZw3jg4/PWdwO0wRTSHP3SL95LEuuC5DHZaxsQ5Hv7c31Yry1N33uilC5X5JzaZJeo68o2YtocsYlO7vJViqJ7FdPZL6q7Jt57+z9OSvNbc9Be+BV+wVhLlLmfobd3WDEl5XrCv0QU3fEWDmAWj93rOnPfurZ+O59XiK3x3y8exXMe9sfZPfsw/tcsszPVl/ahp2v7c2VYry5NzV0GVq1X5ILEiuyZNsZ3Mg+9UQ+VVWG9tj7j/ZpbsAHfHFoNDmR3DcFDSsjkl3HeukALiKaglpRfXj3NqJVeWYpIvZ+7Wax1E8WpKrPxjK7oayg46G6+6v3kqz06zW8ei5hY7QzsxIWt2GlnfbmWjHe2psaXBqPCK9ILkicBNSWLV5zm+bL9US2VJXX68km1Xt/4rG5Pb0OAHzBt4IwOQkqyd3GWJ4/r6OfkfBInZOYre9GVTS5xyNQ7ZmlSlBZP1i++0zH5Ixxavtbo2VwSaSbWNFNUuwfaLJ8RqLaffyFEswNPlVswzV77c26Yuy4N+d/LzzGoGhK9Vt8hwd/LtcT2VJV3qgnG4q6de/fCjfeQaoqS6PMwHftNetmTXfj7fBnPFlscbBo8rEo4kXi7UqM7/755L7c7MezB+OoIE9+eXxv2aic0/sI/4zuKrtPLp15r3vh4e7ifkLhw1rI5HP3d9an3o3mTz7dhutVopR99uZru7Js2ZuVt0+OFziYZzkz9XWyZvM3IM5WktnNUlVPyraq8lI92TJrdHbvr0wTXt5BTBrFR23KL1NKWThuSXLG58V38SOSM0Fi7aUpY9aqxA/ZttpN02Bcsm9vqxSCrZ98nJxJnt2Dj9mUX/z1icvz0Utzty4nFxh3+57kjDHp4dnga5+fGY4GjkIQXl/3QJN9HizyC7qnz/i9H1x+cX83J75g03TY7lyQvYMTYWgUI5cZGgXQMoZGAQCoRRBihNNBAK0hCAEATSMIAQBNIwgBAE0jCAEATSMIAQBNIwgBAE0jCAEATSMIAQBNIwgBAE0jCAEATSMIAQBNIwgBAE0jCAEATSMIAQBNIwgBAE0jCAEATSMIAQBNIwgBAE0jCAEATSMIAQBNIwgBAE0jCAEATSMIAQBNIwgBAE0jCAEATSMIAQBNIwgBAE0jCAEATSMIAQBNIwgBAE0jCAEATft3dAEA4LxUVUW7/1qx1truv0eXC3siCBuSNHX/460/tiTAT0iaQgr3f6qoqIhI9JFGdCUE4fWpatJ0T0ERCRK89d56OrbAkpBC12q6luKtvzelkIJajT4eXUbsw5RSlt5Lzvi8+C5+gqoGDar6+Ja1NtpIFgKPVNUlJyLZ50kbub/FeeGZbcovJstcXNI0m4JyO1P8cnmAnxA0iEj0Mz1Fa232WQbXGvDrCMIrexp1KzEJNEtVVbUbDp39gLXWWtt97MtlwydwjfDK+iv7q5w6q4yOAn+s2Pt/Vz6j0k8l/Va58CkE4ZVVdVe1Ki+BhhBtjSEIr8xa+zTjuOAPTKiqU7feQeze5XTwGrhGeGU1rZSWDEw8vQR4f4tJ19dAEF7ZytX+DrcSArO6hjN761F3S5KIcB/hZRCEF/c0CL9WEuCHdH3E7pbB4dTrpMkltz6nFD+HILy47p6npXuhOB0ElkTbXz4PKZhgXHImmO6Ja976aDkdvA6eLNOK+7ODeWowUK+7GXfYdrig8BM25RdBCAC4Gh6xBgBALYIQANA0ghAA0DSCEADQNIIQANA0grAtKfF3l4BX0HYujCBsC40ZeA1t58IIQgBA0whCAEDTCEIAQNMIQgBA0whCAEDTCEIAQNOODELmIgNAm051/D8mCFU1hOCcO+TbAQDHUlXnXErp6IKIfD8I7xF4kvUHABziPHHwvSA8zzoDAE7iDNHwpb9QH0KYXUlr7S7LR6VuXJ7NDmxF29nd42VCa6333nv//sI35de/97+vRrdij1m4ywqjXkrJWktjBrai7exLVWeD8JgtXJZFu/buC3LOk+Tbd/l4ylobYzy6FMDvoe3sK8Y4zALvfc55z+Vvya+vTpbpatJjHAIA2tRFYIzxwLPtLw2NDnVx6L1n1gwAtOl+OfAMo80HBGGni8Ojvh0AcKBTRQCPWAMANI0gBAA0jSAEADSNIAQANI0gBAA0jSAEADSNIGzLGW7ZAX4RbefCDruPEIc4ye2rwM+h7VwYZ4RtoSUDr6HtXBhBCABoGkEIAGgaQQgAaBpBCABoGkHYjiTG9D/8/StgC3drOo62c0UEYSNUTJJSpBTxIoEsBGo5I75IKZK9aKDpXBBB2IaUJOf+/2PuXwHwlEos4kVExEaxIqoHlwi744b6NvjhH8C0wg1RQKVhc1FRK5nmczkEYYNUVCT6o4sB/BQV4ySXo4uBD2BotD2aRLyQg0A1DWKciIjj8voVEYQXcp/ZNvmZTHQLSXJcWASAGTb2k2VEJISjS4O9EYQXkks/L3Tykwdnf8GIL1wjBF5gIyMp10QQtiQ5kdw3ZaaBA9tZKzx8+3qYLNOM5CSoiLvlnxUu+wObqAQdjbDgGgjCNjzeQW9pzUCFJGZwUTBzYeGKCMI2xCLMjwFe4KXQabw6rhECAJpGEAIAmkYQAgCaRhACAJpGEAIAmkYQAgCaRhACAJpGEAIAmkYQAgCaRhACAJr25BFryZnvlAMAgEOYUvgbBACAdjE0CgBoGkEIAGgaQQgAaBpBCABoGkEIAGgaQQgAaBpBCABoGkEIAGgaQQgAaBpBCABoGkEIAGgaQQgAaBpBCABoGkEIAGgaQQgAaBpBCABoGkEIAGjav5X3knMi+rWiAACwE+tzrvzoWhCKqM/l/eIAAPBNyZn6DzM0CgBoGkEIAGgaQQgAaBpBCABoGkEIAGgaQQgAaBpBCABoGkEIAGgaQQgAaBpBCABoGkEIAGgaQQgAaFqjQZicCZqcCQ38cY1PrGZyxhjTxObb0YVr3dur9rnNQl3Fc40GISpoMC7Nv6Pic8le02FHF2M2PFoeV3fquorzaysINRjTQPew7wMbY8zS4aGGtfa2uMn2slaSMy6JtXPvX/Ok52UXrnXvrNpOtbRDXcVbGgpCDcZJLr0s7poNQIMJ9m81bXhnNTUYY4LeDjN3PpdobcxegzHJl2jnfx8XrnXvrNqutfS+SOoqXvRzQZjEmP5nWy8yhTTshb7dB92Du63KfqXZdTWtz6XMHTmSM0E1GOMkl+zf+Y7pck954nTlWted1W0v2Tur9oHN8vW6Kv2Z5lEe6+Tu5bmf8P+1yl0PWcduwLGyLNq1d4+Qi9j+f70UkRIPLc6C7EV8fvoxeyt+9udclRi7MkVrv1K4aKVqw5VSSlmvurtqoNZ1+VC77U/o23W1RCvypa+as1Ans991N2Yvo7Xc/5C1c4FHNuXXTwVh9OVvk+UiUpaqYt/xu73d9xNvG/yvW3j//UFPco/qPfn+uU+U4d63Ut6sDdH+1ae/9fO5ZH8vxu11e6vN1ufZsg4X9nBwGWyqUZlnturq6zNrsGHbfy8I26h1T3ohO61aTS0tL1fU8l5dra2o3XIPTMHVOpn9fgk9DsK9D1mDL/nIxvyxIKzsyc6wi4ekruX07efWXG6NZtB4or21wnEL3mu/TI4XSwbdu3e+qv+aW+P3OXux8X6IudXqwQt/W2l8IFoOwuGmGvbmhq/3W/X+j9nXH23rHL4ZhNS6ca2b9v2nn91p1Z7X0vJGRS3v1NX6ivr0/cmmGyTxYGR2z2P/uE4uJct40z142JZrtaLukFW57h+KwuOCMFvxIv5e4bp/LlaZfsu82K/IayfnD13Kv28a7Y/sxcZou+Z4+4UnFWbraj7pqOciUl7bBEP3atyXPtq/Feu+OVrp5xHMdrSrgnDaE75/cPQbgw249PrCKozeX93Of0FIrVsrTGWtezYsvdOqPa+l5Y2KWt6oqxsq6pYcHK16t1b3DbDXkOBDnVwIlt2CsPKQVb/un0nCTfm162QZm0ss2UrSpMkY9SWWEuevXxtzm3L22iwuTSJeli5921hGQx3+sTdy73daVWslaX+30fOLt9WrOSnx48w4DWKciIjbOgljpXTeazAmiJek3g/GhrxVe6+Ig1+IDy8tUVXr/e0aelB5mKI31Z04VC07BBUfB+Wo3M7UutUS19U6n6PtprB8Z9UWa6nsUlFlc12tr6gpVdT7WyGS3qq0z1FUum6CdH2GfW5tfKyT1lqpqVIvfVv1IWvDun+ywJX2nzVqrRcNTnLxM3W2OxglXxYPRvdpSZOfyfSikCTHyiIl59KksQ0LHEv2IpqcccnOFXr2t1ZX8/7Fg0PvzPraKKVI17ZDqPvi5yX767SP26vPWdwOs/RSSA+3KNcfR+YX6bqt9LiMqu1MrRt/8Su1zudSfKqrGzus2mItlf0qqnyirqpO02t4Q+SISw8rN+jpLYVpZVW8W6iTj+W01j6+OPx8TbxvOWRtW/eVsn3BB26fsH6ucovIbPf0QS5S5n6GXcFgxBeprMzJBYkVVX9bh3NtNe/zjtcOvcMvXjzH2Fn3lI0taznHe9sf43a7I8vnkmV+LvXqdq76GLVu/ovHta6/y66iLB9atVFhdqmo8pG6+vgda6Pwf4f3lFSk4mBfUxXvNtVJ721aOgnVVN8dqz1kbV/34+wfhJqCWlGd67/cRlF8euNJG8mJ5H4/aHg2pJhckDipQxre72yurObfjcbV7djeL4u84elNeBWdvu5YGnQ8THZ/9V7apW7165vWxmg1PPzqWnWq/Bi1bsGg1mlwaTwwveTdVau5VfTliiqfr6u1o6Ldh73ty5dcULFW7jU8uSBvpvNqnZwrp48+zT72QINLVXt/uPwnh6yt675pw+5u7yBU5yRm67vegM5v9ts10278Y9OBKTkJKsndhgt0vWei4bHViqbUXajf8L3T5a6t5uaFqwSVbdVwzruPVEzOGKe2vzNZBmP23Rp1vcn+gLuwgqovb9q5oZG66kStk2/VuvdXbYcHfy5XVPlCXfXe1g/j2dj3v4KKzznnKP1N6u8+42alTqqqzJ/e2ViiunHt12CM05pT/IGaylO/7ssF/p6ViTSbZt3kKOJF4m3o33f/rJpbVDt9qrt1dPizPs9utOTBpKiZCXWTtr243JrVXOyRj+6AGq3HDtPHxpPmR2UYTWcYGd3UdZ9cOvNe98LDHQ73CfXTdZ/do88n4/3tomfbuau61LqlZW2tdTX3b+ywahW1dHZdqipq2auuVkxv3mnG55PJvUtW6+TzOZjjzHsy8/hvGu5c5Xmt/I9fc6nbJ4DXnfWG+jbseSPj9e0ZhaWUElfug9m8rP1u9n9yd+ngO98p/6eeTnDc7RPA63z0MnOREF/QXcU5eHDqh/ic/U5/tyI5Y0yybw2TjpY2M3b9SW+W//sFnkcQ4ixsLNlrOONDt69MgzFB/c4PpL46G0uJ6t7vt+0zO1ZERJKrnPe7yd+dmLPeKf9nCvwSU0pZei854/Piu8CBjFmrugAatym/OCMEADSNIMRP4nQQwF4IQgBA0whCAEDTCEIAQNMIQgBA0whCAEDTCEIAQNMIQgBA0whCAEDTCEIAQNMIQgBA0whCAEDTCEIAQNMIQgBA0whCAEDTCEIAQNMIQgBA0whCAEDTCEIAQNMIQgBA0whCAEDTCEIAQNMIQgBA0whCAEDTCEIAQNMIQgBA0whCAEDTCEIAQNMIQgBA0whCAEDTCEIAQNMIQgBA0whCAEDT/h1dAHxD0pQ0qWr3T2utt95bf2ypgJ/QtR0VtWK7tnN0ibAzU0pZei854/Piu/gJqho0DCNw+P/RRmvtcaUDTm3SfDo0nJ+wKb/OPjSaNB1dhN/WNWNrbfa5xHL/b5eIQcPRBQROSlVdcpMUXHkdd6r6W4fu8wZh0mSCCYkj9eu6IZ0uBYcd2PsrP1dfga9Z7ybSiVwXUnDJ/crh5YxBSATupduG0cbZd7vX2c7AI1VdP+d7+gGo6q/E4bkmyyRNj8dljtTvsNYuXczo3uraMxc8gCGV5yGXNFV8qnXdJZhk05kn6J0oCJeG3c/fmzgzK2sJ560PGrrpcF8rEnB+NWd7KpwU1upnJHg5ZxaeKAizz5NZ/p3o50f28NTTk2maMTDLWvv0bM9bTwdyyeTg050Onnbk6URBKLeNNYnDc/YgfkKQsD7C073L6SAwUdMoutsKv1CYnzPsYZ88AjtnnCzjrc8+R8+dOu9anxd6n1PKdgYmnt44f/6D++F+6Eh+9hvqmcfxju6GJxGJPk5a9f2tyZ0VAO6WJi50NyB9vzy/ottoxx5YNuXX2YMQb7pPxO06sFZsd4W/O0301nMJFljxOJX9sVuJEyIIMTJ7U4rQnoFqw2eNHl0WVCEIMePxodvHlgcAPmdTfp1r1ig+h6neADDrjLNGAQD4GoIQANA0ghAA0DSCEADQNIKwLSlNH+UKoAZt58IIwrbQmIHX0HYujCAEADSNIAQANI0gBAA0jSAEADSNIAQANI0gBAA0jSAEADTtsCBMKTnnjvp2AMCBugg4ya2ZBwRhSskYE0I4ySYAAHyfqjrnzhCHXw3CewR+80sBAKd1hjj80h/mTSnN5h+h+H08KQp4DW1nR5Mt2cWhtTbGaO23/4b4984Iv79uAAA8V5ZFu/buCx6jft/l46muw3V0KYDfQ9vZV4xxmAXW2pzznsvfkl9fvUbovc85H3LmCwA4oS4Cc84H5sIBs0aJQwDAGSKwc9h9hF0cHvXtAIADdRFweAR2eLIMAKBpBCEAoGkEIQCgaQQhAKBpBCEAoGkEIQCgaQQhAKBpX3roNk5i8lgjAJVoOxdGELblJLevAj+HtnNhDI0CAJpGEAIAmkYQAgCaRhACAJpGELYjiTH9Tzq6LMBPcbem42g7V0QQNkLFJClFShEvEshCoJYz4ouUItmLBprOBRGEbUhJ7n/9Meb+FQBPqcQiXkREbBQronpwibA77iNsgx/eC2yFG6KASsPmoqJWMs3ncgjCBqmoSPRHFwP4KSrGSS5HFwMfwNBoezSJeCEHgWoaxDgREcfl9SsiCC/kPrNt8jOZ6BaSZJ6aCGxgYz9ZRkRCOLo02BtBeCG59PNCJz95cPYXjPjCNULgBTYyknJNBGFLkhPJfVNmGjiwnbXCw7evh8kyzUhOgoq4W/5Z4bI/sIlK0NEIC66BIGzD4x30ltYMVEhiBhcFMxcWroggbEMswvwY4AVeCp3Gq+MaIQCgaQQhAKBpBCEAoGkEIQCgaQQhAKBpBCEAoGkEIQCgaQQhAKBpBCEAoGkEIQCgaU8esZac+U45AAA4hCmFv0EAAGgXQ6MAgKYRhACAphGEAICmEYQAgKYRhACAphGEAICmEYQAgKYRhACAphGEAICmEYQAgKYRhACAphGEAICmEYQAgKb9DwLr3PBtMIfgAAAAAElFTkSuQmCC)"
      ],
      "metadata": {
        "id": "6nwF8dlxFIhc"
      }
    },
    {
      "cell_type": "code",
      "source": [
        "list_a"
      ],
      "metadata": {
        "colab": {
          "base_uri": "https://localhost:8080/"
        },
        "id": "JDiMwk2ODU21",
        "outputId": "2a9a9603-24ce-45c1-b9ad-7fa5016d9c00"
      },
      "execution_count": 36,
      "outputs": [
        {
          "output_type": "execute_result",
          "data": {
            "text/plain": [
              "[1, 2, 3, 4, 5, 6]"
            ]
          },
          "metadata": {},
          "execution_count": 36
        }
      ]
    },
    {
      "cell_type": "code",
      "source": [
        "list_a[2]"
      ],
      "metadata": {
        "colab": {
          "base_uri": "https://localhost:8080/"
        },
        "id": "Ua8jd0ZND3eZ",
        "outputId": "a8c88d47-0468-4e06-e48f-99cd9d3cf726"
      },
      "execution_count": 37,
      "outputs": [
        {
          "output_type": "execute_result",
          "data": {
            "text/plain": [
              "3"
            ]
          },
          "metadata": {},
          "execution_count": 37
        }
      ]
    },
    {
      "cell_type": "markdown",
      "source": [
        "#### `:` colon"
      ],
      "metadata": {
        "id": "32g01sE4G55s"
      }
    },
    {
      "cell_type": "code",
      "source": [
        "list_a[:]      #: colon คือตัวที่ระบุว่าเราจะดึงสมาชิกตัวไหนออกมาจาก list"
      ],
      "metadata": {
        "colab": {
          "base_uri": "https://localhost:8080/"
        },
        "id": "FAccIGRcD5tj",
        "outputId": "03ec1e92-2b25-4f90-efc3-06bb4b3002bf"
      },
      "execution_count": 38,
      "outputs": [
        {
          "output_type": "execute_result",
          "data": {
            "text/plain": [
              "[1, 2, 3, 4, 5, 6]"
            ]
          },
          "metadata": {},
          "execution_count": 38
        }
      ]
    },
    {
      "cell_type": "code",
      "source": [
        "list_a[-3:]   # -3 คือ เอาสมาชิกสามตัวสุดท้ายออกมา"
      ],
      "metadata": {
        "colab": {
          "base_uri": "https://localhost:8080/"
        },
        "id": "TMd7ob-KEVqy",
        "outputId": "c4a413d3-0b5e-4f68-8011-fa6c36d1cb46"
      },
      "execution_count": 39,
      "outputs": [
        {
          "output_type": "execute_result",
          "data": {
            "text/plain": [
              "[4, 5, 6]"
            ]
          },
          "metadata": {},
          "execution_count": 39
        }
      ]
    },
    {
      "cell_type": "code",
      "source": [
        "list_a[:4]"
      ],
      "metadata": {
        "colab": {
          "base_uri": "https://localhost:8080/"
        },
        "id": "MAaGWK-nGa2y",
        "outputId": "bbe3619d-2a73-4f39-a12c-1d385523c4ab"
      },
      "execution_count": 40,
      "outputs": [
        {
          "output_type": "execute_result",
          "data": {
            "text/plain": [
              "[1, 2, 3, 4]"
            ]
          },
          "metadata": {},
          "execution_count": 40
        }
      ]
    },
    {
      "cell_type": "code",
      "source": [
        "list_a[1:4]"
      ],
      "metadata": {
        "colab": {
          "base_uri": "https://localhost:8080/"
        },
        "id": "S08VrKz3FBq0",
        "outputId": "8b3fd3d2-c386-4cd4-fd48-9cd84e86d7b8"
      },
      "execution_count": 41,
      "outputs": [
        {
          "output_type": "execute_result",
          "data": {
            "text/plain": [
              "[2, 3, 4]"
            ]
          },
          "metadata": {},
          "execution_count": 41
        }
      ]
    },
    {
      "cell_type": "code",
      "source": [
        "list_a[:]"
      ],
      "metadata": {
        "colab": {
          "base_uri": "https://localhost:8080/"
        },
        "id": "22SrgwinFvU4",
        "outputId": "54843571-84a7-48c5-ba66-007c86dec59e"
      },
      "execution_count": 42,
      "outputs": [
        {
          "output_type": "execute_result",
          "data": {
            "text/plain": [
              "[1, 2, 3, 4, 5, 6]"
            ]
          },
          "metadata": {},
          "execution_count": 42
        }
      ]
    },
    {
      "cell_type": "markdown",
      "source": [
        "#### step"
      ],
      "metadata": {
        "id": "xIR3mbSCGwKc"
      }
    },
    {
      "cell_type": "code",
      "source": [
        "list_c = [1,2,3,4,5,6,7,8,9,10,11,12,13]"
      ],
      "metadata": {
        "id": "yDw6-ZQXGmhA"
      },
      "execution_count": 43,
      "outputs": []
    },
    {
      "cell_type": "code",
      "source": [
        "list_c[:10:]  # ไม่ได้กำหนด step"
      ],
      "metadata": {
        "colab": {
          "base_uri": "https://localhost:8080/"
        },
        "id": "ypydLhBgHHn1",
        "outputId": "a79742ad-e555-4a89-cd85-af5f9bc80d84"
      },
      "execution_count": 44,
      "outputs": [
        {
          "output_type": "execute_result",
          "data": {
            "text/plain": [
              "[1, 2, 3, 4, 5, 6, 7, 8, 9, 10]"
            ]
          },
          "metadata": {},
          "execution_count": 44
        }
      ]
    },
    {
      "cell_type": "code",
      "source": [
        "list_c[:10:2]      #กำหนด step คือ กระโดดไปเท่ากับจำนวนที่ระบุ เช่น list นี้ กระโดดไป 2 step"
      ],
      "metadata": {
        "colab": {
          "base_uri": "https://localhost:8080/"
        },
        "id": "X9SEvBDhHS6V",
        "outputId": "a51db11a-b0bf-46fc-e819-d4be7ab85ca2"
      },
      "execution_count": 45,
      "outputs": [
        {
          "output_type": "execute_result",
          "data": {
            "text/plain": [
              "[1, 3, 5, 7, 9]"
            ]
          },
          "metadata": {},
          "execution_count": 45
        }
      ]
    },
    {
      "cell_type": "code",
      "source": [
        "list_c[::-1]   # list นี้ กระโดดไป -1 step จะได้ว่าเอาทุกตัวแต่กระโดดทีละ step แต่กระโดดมาจากข้างหลัง"
      ],
      "metadata": {
        "colab": {
          "base_uri": "https://localhost:8080/"
        },
        "id": "jcNbSghwHuRr",
        "outputId": "cd606411-b401-478a-f285-fb187729ef35"
      },
      "execution_count": 46,
      "outputs": [
        {
          "output_type": "execute_result",
          "data": {
            "text/plain": [
              "[13, 12, 11, 10, 9, 8, 7, 6, 5, 4, 3, 2, 1]"
            ]
          },
          "metadata": {},
          "execution_count": 46
        }
      ]
    },
    {
      "cell_type": "markdown",
      "source": [
        "### `range()`"
      ],
      "metadata": {
        "id": "XuOtxzsOIL9G"
      }
    },
    {
      "cell_type": "code",
      "source": [
        "range(21) #ใส่ไปตัวนึงจะเข้าใจว่าเอา 21 ตัว เริ่มจาก 0-21"
      ],
      "metadata": {
        "colab": {
          "base_uri": "https://localhost:8080/"
        },
        "id": "BfIgRUMcII9g",
        "outputId": "47ca9116-5b5c-47f2-c243-bf104f9f2268"
      },
      "execution_count": 47,
      "outputs": [
        {
          "output_type": "execute_result",
          "data": {
            "text/plain": [
              "range(0, 21)"
            ]
          },
          "metadata": {},
          "execution_count": 47
        }
      ]
    },
    {
      "cell_type": "code",
      "source": [
        "a = list(range(21))"
      ],
      "metadata": {
        "id": "LAjIC1ghIUsB"
      },
      "execution_count": 48,
      "outputs": []
    },
    {
      "cell_type": "code",
      "source": [
        "a"
      ],
      "metadata": {
        "colab": {
          "base_uri": "https://localhost:8080/"
        },
        "id": "KlVpIBGgIYkN",
        "outputId": "5945c162-5e41-4c02-e0ce-44e60e26b27a"
      },
      "execution_count": 49,
      "outputs": [
        {
          "output_type": "execute_result",
          "data": {
            "text/plain": [
              "[0, 1, 2, 3, 4, 5, 6, 7, 8, 9, 10, 11, 12, 13, 14, 15, 16, 17, 18, 19, 20]"
            ]
          },
          "metadata": {},
          "execution_count": 49
        }
      ]
    },
    {
      "cell_type": "code",
      "source": [
        "list(range(1,21))   #ใส่ไปสองตัว ซึ่งจะเข้าใจว่าเอา 21 ตัว เริ่มจาก 1-20"
      ],
      "metadata": {
        "colab": {
          "base_uri": "https://localhost:8080/"
        },
        "id": "BuRdafG7IZPv",
        "outputId": "b2c46aaf-e78d-4c54-ce0d-fec2fd69e3bb"
      },
      "execution_count": 50,
      "outputs": [
        {
          "output_type": "execute_result",
          "data": {
            "text/plain": [
              "[1, 2, 3, 4, 5, 6, 7, 8, 9, 10, 11, 12, 13, 14, 15, 16, 17, 18, 19, 20]"
            ]
          },
          "metadata": {},
          "execution_count": 50
        }
      ]
    },
    {
      "cell_type": "markdown",
      "source": [
        "### HW2 คำนวณเวลาเป็นวินาทีของเวลาต่อไปนี้โดยใช้คำสั่ง split() ช่วย (print ออกมาให้สวยงาม)\n",
        "\n",
        "- 12:30:15\n",
        "- 13:41:07\n",
        "- 09:11:50\n",
        "- 21:30:15\n",
        "- 03:10:15"
      ],
      "metadata": {
        "id": "wgx-pUFxJHNc"
      }
    },
    {
      "cell_type": "code",
      "source": [
        "#01:02:03\n",
        "\n",
        "a = (1*60*60) + (2*60) + 3\n",
        "print(f'01:02:03 แปลงเป็นวินาที ได้ {a} วินาที')"
      ],
      "metadata": {
        "colab": {
          "base_uri": "https://localhost:8080/"
        },
        "id": "zIE-9XxHIe2T",
        "outputId": "f7d223eb-7d14-406f-8a67-458d9dd8c64f"
      },
      "execution_count": 51,
      "outputs": [
        {
          "output_type": "stream",
          "name": "stdout",
          "text": [
            "01:02:03 แปลงเป็นวินาที ได้ 3723 วินาที\n"
          ]
        }
      ]
    },
    {
      "cell_type": "markdown",
      "source": [
        "#### ข้อ 1"
      ],
      "metadata": {
        "id": "U0AR_gObMCzm"
      }
    },
    {
      "cell_type": "code",
      "source": [
        "No1 = '12:30:15'\n",
        "No1 = (12*60*60) + (30*60) + 15\n",
        "print(f'12:30:15 แปลงเป็นวินาที ได้ {No1} วินาที')"
      ],
      "metadata": {
        "id": "s-ywmxVNLQud",
        "outputId": "d3915eb8-b00d-4b1c-8665-925f954840c6",
        "colab": {
          "base_uri": "https://localhost:8080/"
        }
      },
      "execution_count": 56,
      "outputs": [
        {
          "output_type": "stream",
          "name": "stdout",
          "text": [
            "12:30:15 แปลงเป็นวินาที ได้ 45015 วินาที\n"
          ]
        }
      ]
    },
    {
      "cell_type": "code",
      "source": [
        "H1 = '12:30:15'\n",
        "H1_sp = H1.split(':')\n",
        "ans1 = int(H1_sp[0])*3600 + int(H1_sp[1])*60 + int(H1_sp[2])\n",
        "print(f'เวลา {H1} แปลงเป็นจำนวนวินาทีได้เท่ากับ {ans1} วินาที')"
      ],
      "metadata": {
        "id": "WJ7TRwSkM2Vx",
        "outputId": "2727d808-43e5-47a6-b742-46bb893c0cae",
        "colab": {
          "base_uri": "https://localhost:8080/"
        }
      },
      "execution_count": 54,
      "outputs": [
        {
          "output_type": "stream",
          "name": "stdout",
          "text": [
            "เวลา 12:30:15 แปลงเป็นจำนวนวินาทีได้เท่ากับ 45015 วินาที\n"
          ]
        }
      ]
    },
    {
      "cell_type": "markdown",
      "source": [
        "#### ข้อ 2"
      ],
      "metadata": {
        "id": "xII8TnqUNzqK"
      }
    },
    {
      "cell_type": "code",
      "source": [
        "No2 = '13:41:07'\n",
        "No2 = (13*60*60) + (41*60) + 7\n",
        "print(f'13:41:07 แปลงเป็นวินาที ได้ {No2} วินาที')"
      ],
      "metadata": {
        "id": "828ljuyINSty",
        "outputId": "b674fe8d-1f50-45cd-b229-0f2ddd61d31c",
        "colab": {
          "base_uri": "https://localhost:8080/"
        }
      },
      "execution_count": 59,
      "outputs": [
        {
          "output_type": "stream",
          "name": "stdout",
          "text": [
            "13:41:07 แปลงเป็นวินาที ได้ 49267 วินาที\n"
          ]
        }
      ]
    },
    {
      "cell_type": "code",
      "source": [
        "H2 = '13:41:07'\n",
        "H2_sp = H2.split(':')\n",
        "ans2 = int(H2_sp[0])*3600 + int(H2_sp[1])*60 + int(H2_sp[2])\n",
        "print(f'เวลา {H2} แปลงเป็นจำนวนวินาทีได้เท่ากับ {ans2} วินาที')"
      ],
      "metadata": {
        "id": "UFBfyuQ4ODwU",
        "outputId": "16721753-54dd-40f8-df43-0b43602f1890",
        "colab": {
          "base_uri": "https://localhost:8080/"
        }
      },
      "execution_count": 61,
      "outputs": [
        {
          "output_type": "stream",
          "name": "stdout",
          "text": [
            "เวลา 13:41:07 แปลงเป็นจำนวนวินาทีได้เท่ากับ 49267 วินาที\n"
          ]
        }
      ]
    },
    {
      "cell_type": "markdown",
      "source": [
        "#### ข้อ 3"
      ],
      "metadata": {
        "id": "_cRCHUo6Ogt5"
      }
    },
    {
      "cell_type": "code",
      "source": [
        "No3 = '09:11:50'\n",
        "No3 = (9*60*60) + (11*60) + 50\n",
        "print(f'09:11:50 แปลงเป็นวินาที ได้ {No3} วินาที')"
      ],
      "metadata": {
        "id": "fVBuAGikOc4K",
        "outputId": "58c755cc-a61e-4931-b610-5ec9c8ac352e",
        "colab": {
          "base_uri": "https://localhost:8080/"
        }
      },
      "execution_count": 62,
      "outputs": [
        {
          "output_type": "stream",
          "name": "stdout",
          "text": [
            "09:11:50 แปลงเป็นวินาที ได้ 33110 วินาที\n"
          ]
        }
      ]
    },
    {
      "cell_type": "code",
      "source": [
        "H3 = '09:11:50'\n",
        "H3_sp = H3.split(':')\n",
        "ans3 = int(H3_sp[0])*3600 + int(H3_sp[1])*60 + int(H3_sp[2])\n",
        "print(f'เวลา {H3} แปลงเป็นจำนวนวินาทีได้เท่ากับ {ans3} วินาที')"
      ],
      "metadata": {
        "id": "B0LoTMTcOvMU",
        "outputId": "b9dc1eb6-2a22-441c-cf82-b18699bb0669",
        "colab": {
          "base_uri": "https://localhost:8080/"
        }
      },
      "execution_count": 63,
      "outputs": [
        {
          "output_type": "stream",
          "name": "stdout",
          "text": [
            "เวลา 09:11:50 แปลงเป็นจำนวนวินาทีได้เท่ากับ 33110 วินาที\n"
          ]
        }
      ]
    },
    {
      "cell_type": "markdown",
      "source": [
        "#### ข้อ 4"
      ],
      "metadata": {
        "id": "p5ELh-nIPN0A"
      }
    },
    {
      "cell_type": "code",
      "source": [
        "No4 = '21:30:15'\n",
        "No4 = (21*60*60) + (30*60) + 15\n",
        "print(f'21:30:15 แปลงเป็นวินาที ได้ {No4} วินาที')"
      ],
      "metadata": {
        "id": "CipKLX-VO4vw",
        "outputId": "8d932609-46cf-43e0-86dd-16e73e005a4f",
        "colab": {
          "base_uri": "https://localhost:8080/"
        }
      },
      "execution_count": 64,
      "outputs": [
        {
          "output_type": "stream",
          "name": "stdout",
          "text": [
            "21:30:15 แปลงเป็นวินาที ได้ 77415 วินาที\n"
          ]
        }
      ]
    },
    {
      "cell_type": "code",
      "source": [
        "H4 = '21:30:15'\n",
        "H4_sp = H4.split(':')\n",
        "ans4 = int(H4_sp[0])*3600 + int(H4_sp[1])*60 + int(H4_sp[2])\n",
        "print(f'เวลา {H4} แปลงเป็นจำนวนวินาทีได้เท่ากับ {ans4} วินาที')"
      ],
      "metadata": {
        "id": "_uYa5dJGPDki",
        "outputId": "07d4dbe2-d8dd-4f9a-925e-52cc532fb5c8",
        "colab": {
          "base_uri": "https://localhost:8080/"
        }
      },
      "execution_count": 65,
      "outputs": [
        {
          "output_type": "stream",
          "name": "stdout",
          "text": [
            "เวลา 21:30:15 แปลงเป็นจำนวนวินาทีได้เท่ากับ 77415 วินาที\n"
          ]
        }
      ]
    },
    {
      "cell_type": "markdown",
      "source": [
        "#### ข้อ 5"
      ],
      "metadata": {
        "id": "or-Y5yarPRIm"
      }
    },
    {
      "cell_type": "code",
      "source": [
        "No5 = '03:10:15'\n",
        "No5 = (3*60*60) + (10*60) + 15\n",
        "print(f'03:10:15 แปลงเป็นวินาที ได้ {No5} วินาที')"
      ],
      "metadata": {
        "id": "dcS5ebAoPL9P",
        "outputId": "0e2d7ed6-f756-4fa0-914f-394400b865ee",
        "colab": {
          "base_uri": "https://localhost:8080/"
        }
      },
      "execution_count": 66,
      "outputs": [
        {
          "output_type": "stream",
          "name": "stdout",
          "text": [
            "03:10:15 แปลงเป็นวินาที ได้ 11415 วินาที\n"
          ]
        }
      ]
    },
    {
      "cell_type": "code",
      "source": [
        "H5 = '03:10:15'\n",
        "H5_sp = H5.split(':')\n",
        "ans5 = int(H5_sp[0])*3600 + int(H5_sp[1])*60 + int(H5_sp[2])\n",
        "print(f'เวลา {H5} แปลงเป็นจำนวนวินาทีได้เท่ากับ {ans5} วินาที')"
      ],
      "metadata": {
        "id": "v2FejGBuPfOI",
        "outputId": "3714e6c9-9ac3-44ae-bed9-e1022baa2490",
        "colab": {
          "base_uri": "https://localhost:8080/"
        }
      },
      "execution_count": 67,
      "outputs": [
        {
          "output_type": "stream",
          "name": "stdout",
          "text": [
            "เวลา 03:10:15 แปลงเป็นจำนวนวินาทีได้เท่ากับ 11415 วินาที\n"
          ]
        }
      ]
    },
    {
      "cell_type": "code",
      "source": [
        ""
      ],
      "metadata": {
        "id": "PoDmCK7QPof6"
      },
      "execution_count": null,
      "outputs": []
    }
  ]
}